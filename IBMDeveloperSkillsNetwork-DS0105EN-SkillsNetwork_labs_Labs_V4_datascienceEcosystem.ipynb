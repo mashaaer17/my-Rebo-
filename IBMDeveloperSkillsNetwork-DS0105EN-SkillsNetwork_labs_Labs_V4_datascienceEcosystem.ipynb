{
  "metadata": {
    "language_info": {
      "codemirror_mode": {
        "name": "python",
        "version": 3
      },
      "file_extension": ".py",
      "mimetype": "text/x-python",
      "name": "python",
      "nbconvert_exporter": "python",
      "pygments_lexer": "ipython3",
      "version": "3.8"
    },
    "kernelspec": {
      "name": "python",
      "display_name": "Python (Pyodide)",
      "language": "python"
    }
  },
  "nbformat_minor": 4,
  "nbformat": 4,
  "cells": [
    {
      "cell_type": "markdown",
      "source": "\n# create marckdown cell\n# H1: Data science tools and ecosystem\nin this notebook ,data science tools and ecosystem are summarized\n",
      "metadata": {}
    },
    {
      "cell_type": "markdown",
      "source": "# H1:objectives \n- create and rename a notebook\n- create marckdown and code cells \n- create headings and orderd marckdown cell\n- insert a code cell\n- creating a table in marckdown cell ",
      "metadata": {}
    },
    {
      "cell_type": "markdown",
      "source": "## some of the popular languages that data scientist use are:\n1. python\n2. c++\n3. R \n4. my sql ",
      "metadata": {}
    },
    {
      "cell_type": "markdown",
      "source": "## some of the commonly used libraries used by data scientist include:\n1. tensflow\n2. pandas\n3. numpy\n4. matplotlib ",
      "metadata": {}
    },
    {
      "cell_type": "markdown",
      "source": "## data science toools:\n|Data science tools|\n|------------------|\n|Rstudio|\n|Apache hadoop|\n|Apache spark|\n",
      "metadata": {}
    },
    {
      "cell_type": "markdown",
      "source": "### belw are a few examples of evaluating arithmatic expressions in python:\n1. $E=mc^2$\n2. $$\\frac{a}{b}$$\n",
      "metadata": {}
    },
    {
      "cell_type": "code",
      "source": "#This a simple arithmatic expression to multiply then add integers\n(3*4)+5",
      "metadata": {
        "trusted": true
      },
      "execution_count": null,
      "outputs": []
    },
    {
      "cell_type": "code",
      "source": "\"this will convert 200 minutes into hours by dividing by 60\"\nx=200\ny=60\nz= x/y\nprint(z)\n",
      "metadata": {
        "trusted": true
      },
      "execution_count": null,
      "outputs": []
    },
    {
      "cell_type": "markdown",
      "source": "## Author\nmashaer",
      "metadata": {}
    },
    {
      "cell_type": "code",
      "source": "",
      "metadata": {},
      "execution_count": null,
      "outputs": []
    }
  ]
}